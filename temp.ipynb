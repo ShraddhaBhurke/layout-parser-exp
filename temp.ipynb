{
 "cells": [
  {
   "cell_type": "code",
   "execution_count": null,
   "metadata": {},
   "outputs": [],
   "source": [
    "#Dectectron library is needed to be installed for layout parser. Windows installation is very complex so if you want to execute this notebook\n",
    "#Easiest way is to install WSL on windows and install detectron on virtual ubuntu and run this notebook.\n",
    "#Executing on linux machine is the simplest way."
   ]
  },
  {
   "cell_type": "code",
   "execution_count": 4,
   "metadata": {},
   "outputs": [],
   "source": [
    "import torchvision.ops.boxes as bops "
   ]
  },
  {
   "cell_type": "code",
   "execution_count": 5,
   "metadata": {},
   "outputs": [],
   "source": [
    "import pdf2image\n",
    "import numpy as np\n",
    "import layoutparser as lp\n",
    "import torch\n",
    "import numpy as np\n",
    "from PIL import Image"
   ]
  },
  {
   "cell_type": "code",
   "execution_count": 6,
   "metadata": {},
   "outputs": [
    {
     "name": "stderr",
     "output_type": "stream",
     "text": [
      "The checkpoint state_dict contains keys that are not used by the model:\n",
      "  \u001b[35mproposal_generator.anchor_generator.cell_anchors.{0, 1, 2, 3, 4}\u001b[0m\n"
     ]
    }
   ],
   "source": [
    "model = lp.Detectron2LayoutModel(config_path = \"lp://PubLayNet/mask_rcnn_X_101_32x8d_FPN_3x/config\",\n",
    "                                 extra_config=[\"MODEL.ROI_HEADS.SCORE_THRESH_TEST\", 0.5],\n",
    "                                 label_map={0: \"Text\", 1: \"Title\", 2: \"List\", 3:\"Table\", 4:\"Figure\"})"
   ]
  },
  {
   "cell_type": "code",
   "execution_count": 7,
   "metadata": {},
   "outputs": [],
   "source": [
    "#Input pdf file path and convert it to image\n",
    "pdf_file= '/mnt/c/Users/s.shrikant.bhurke/OneDrive - Accenture/Sample 100 files - Lease & amendment/Lease Agreement.pdf'\n",
    "#pdf_file= r'C:\\Users\\s.shrikant.bhurke\\OneDrive - Accenture\\Sample 100 files - Lease & amendment\\1215 Lease.pdf' # Adjust the filepath of your input image accordingly\n",
    "img = pdf2image.convert_from_path(pdf_file)"
   ]
  },
  {
   "cell_type": "code",
   "execution_count": null,
   "metadata": {},
   "outputs": [],
   "source": [
    "#Using azure ocr xml to get the text and the azure xml output has co-ordinates in twips so converting to pixel as layout parser considers pixel co-ordinates for bounding boxes.\n",
    "import xml.etree.ElementTree as ET\n",
    "from lxml import etree\n",
    "from lxml.etree import XMLSyntaxError\n",
    "\n",
    "def convert_twip_to_pixel(tz):\n",
    "    twip_factor = 0.0666666667\n",
    "    l = (float(tz.attrib['l'])*200)/1440\n",
    "    t = (float(tz.attrib['t'])*200)/1440\n",
    "    r = (float(tz.attrib['r'])*200)/1440\n",
    "    b = (float(tz.attrib['b'])*200)/1440\n",
    "    return l,t,r,b\n",
    "\n",
    "\n",
    "def get_word_list(xml_string, PARA_SPACE=300):\n",
    "    parser = etree.XMLParser(ns_clean=True, recover=True, encoding='utf-8')\n",
    "    tree = etree.ElementTree(etree.fromstring(xml_string, parser=parser))\n",
    "\n",
    "    root = tree.getroot()\n",
    "    text_content = \"\"\n",
    "    page_num = 0\n",
    "    all_word_list = {}\n",
    "    for page in root.iter('{http://www.scansoft.com/omnipage/xml/ssdoc-schema3.xsd}page'):\n",
    "        word_list = []\n",
    "        for tz in page.iter('{http://www.scansoft.com/omnipage/xml/ssdoc-schema3.xsd}textZone'):\n",
    "            tz_content = ' '.join(filter(None, [tx.strip() for tx in tz.itertext()]))\n",
    "            #print(tz_content)\n",
    "            #l,t,r,b = convert_twip_to_pixel(tz)\n",
    "            #word_list.append([tz_content, l, t, r, b])\n",
    "            for w in tz.iter():\n",
    "                if len(w.text.strip()) > 0:\n",
    "                    l,t,r,b = convert_twip_to_pixel(w)\n",
    "                    word_list.append([w.text, l, t, r, b])\n",
    "                    ##word_list.append([w.text, float(w.attrib['l']), float(w.attrib['t']), float(w.attrib['r']), float(w.attrib['b'])])\n",
    "        all_word_list.update({page_num: word_list})\n",
    "        # print(page_num,word_list)\n",
    "        # print(\"...................\",page_num)\n",
    "        page_num = page_num + 1\n",
    "    # print(all_word_list)\n",
    "    return all_word_list\n",
    "\n",
    "\n",
    "def return_word(xml_path):\n",
    "    all_word_list = {}\n",
    "    with open(xml_path, encoding='utf8') as f:\n",
    "        all_word_list = get_word_list(f.read())\n",
    "        #print(\"all_word_list\",all_word_list)\n",
    "    return all_word_list\n"
   ]
  },
  {
   "cell_type": "code",
   "execution_count": 9,
   "metadata": {},
   "outputs": [
    {
     "name": "stderr",
     "output_type": "stream",
     "text": [
      "/home/shraddha/miniconda3/envs/section_seg/lib/python3.10/site-packages/torch/functional.py:504: UserWarning: torch.meshgrid: in an upcoming release, it will be required to pass the indexing argument. (Triggered internally at ../aten/src/ATen/native/TensorShape.cpp:3483.)\n",
      "  return _VF.meshgrid(tensors, **kwargs)  # type: ignore[attr-defined]\n"
     ]
    },
    {
     "name": "stdout",
     "output_type": "stream",
     "text": [
      "------------------------------- Layout(_blocks=[TextBlock(block=Rectangle(x_1=172.1931610107422, y_1=230.52845764160156, x_2=1588.146484375, y_2=360.8491516113281), text=None, id=None, type=Title, parent=None, next=None, score=0.9085199236869812), TextBlock(block=Rectangle(x_1=153.043701171875, y_1=756.086669921875, x_2=1583.022705078125, y_2=920.4722290039062), text=None, id=None, type=Text, parent=None, next=None, score=0.8203796744346619), TextBlock(block=Rectangle(x_1=165.13165283203125, y_1=1469.2979736328125, x_2=1574.015869140625, y_2=1595.5947265625), text=None, id=None, type=Text, parent=None, next=None, score=0.7653172016143799), TextBlock(block=Rectangle(x_1=140.62022399902344, y_1=1866.892578125, x_2=1591.7056884765625, y_2=2039.139404296875), text=None, id=None, type=Text, parent=None, next=None, score=0.7589321136474609), TextBlock(block=Rectangle(x_1=316.3785095214844, y_1=513.677490234375, x_2=1441.8779296875, y_2=623.0610961914062), text=None, id=None, type=Title, parent=None, next=None, score=0.7558428645133972), TextBlock(block=Rectangle(x_1=142.53997802734375, y_1=951.115234375, x_2=1614.3978271484375, y_2=1357.4437255859375), text=None, id=None, type=Text, parent=None, next=None, score=0.6887274384498596), TextBlock(block=Rectangle(x_1=155.73899841308594, y_1=394.4038391113281, x_2=1583.0791015625, y_2=474.7729797363281), text=None, id=None, type=Text, parent=None, next=None, score=0.6659283638000488), TextBlock(block=Rectangle(x_1=131.75772094726562, y_1=1628.12109375, x_2=1582.441162109375, y_2=1842.43994140625), text=None, id=None, type=Text, parent=None, next=None, score=0.6643580794334412), TextBlock(block=Rectangle(x_1=130.34385681152344, y_1=881.5042114257812, x_2=1624.1622314453125, y_2=1470.1185302734375), text=None, id=None, type=List, parent=None, next=None, score=0.6474076509475708), TextBlock(block=Rectangle(x_1=158.59051513671875, y_1=638.8978271484375, x_2=1589.0616455078125, y_2=712.3873901367188), text=None, id=None, type=Text, parent=None, next=None, score=0.5564447045326233), TextBlock(block=Rectangle(x_1=160.647216796875, y_1=888.2085571289062, x_2=1356.762451171875, y_2=918.4386596679688), text=None, id=None, type=Text, parent=None, next=None, score=0.5384567975997925), TextBlock(block=Rectangle(x_1=693.9295043945312, y_1=155.37332153320312, x_2=1037.104248046875, y_2=196.67852783203125), text=None, id=None, type=Title, parent=None, next=None, score=0.5133867263793945), TextBlock(block=Rectangle(x_1=149.53961181640625, y_1=1287.5989990234375, x_2=361.2310791015625, y_2=1320.7298583984375), text=None, id=None, type=Text, parent=None, next=None, score=0.5103492140769958)], page_data={})\n",
      "text_blocks [TextBlock(block=Rectangle(x_1=693.9295043945312, y_1=155.37332153320312, x_2=1037.104248046875, y_2=196.67852783203125), text=None, id=0, type=Title, parent=None, next=None, score=0.5133867263793945), TextBlock(block=Rectangle(x_1=172.1931610107422, y_1=230.52845764160156, x_2=1588.146484375, y_2=360.8491516113281), text=None, id=1, type=Title, parent=None, next=None, score=0.9085199236869812), TextBlock(block=Rectangle(x_1=155.73899841308594, y_1=394.4038391113281, x_2=1583.0791015625, y_2=474.7729797363281), text=None, id=2, type=Text, parent=None, next=None, score=0.6659283638000488), TextBlock(block=Rectangle(x_1=316.3785095214844, y_1=513.677490234375, x_2=1441.8779296875, y_2=623.0610961914062), text=None, id=3, type=Title, parent=None, next=None, score=0.7558428645133972), TextBlock(block=Rectangle(x_1=158.59051513671875, y_1=638.8978271484375, x_2=1589.0616455078125, y_2=712.3873901367188), text=None, id=4, type=Text, parent=None, next=None, score=0.5564447045326233), TextBlock(block=Rectangle(x_1=153.043701171875, y_1=756.086669921875, x_2=1583.022705078125, y_2=920.4722290039062), text=None, id=5, type=Text, parent=None, next=None, score=0.8203796744346619), TextBlock(block=Rectangle(x_1=130.34385681152344, y_1=881.5042114257812, x_2=1624.1622314453125, y_2=1470.1185302734375), text=None, id=6, type=List, parent=None, next=None, score=0.6474076509475708), TextBlock(block=Rectangle(x_1=160.647216796875, y_1=888.2085571289062, x_2=1356.762451171875, y_2=918.4386596679688), text=None, id=7, type=Text, parent=None, next=None, score=0.5384567975997925), TextBlock(block=Rectangle(x_1=142.53997802734375, y_1=951.115234375, x_2=1614.3978271484375, y_2=1357.4437255859375), text=None, id=8, type=Text, parent=None, next=None, score=0.6887274384498596), TextBlock(block=Rectangle(x_1=149.53961181640625, y_1=1287.5989990234375, x_2=361.2310791015625, y_2=1320.7298583984375), text=None, id=9, type=Text, parent=None, next=None, score=0.5103492140769958), TextBlock(block=Rectangle(x_1=165.13165283203125, y_1=1469.2979736328125, x_2=1574.015869140625, y_2=1595.5947265625), text=None, id=10, type=Text, parent=None, next=None, score=0.7653172016143799), TextBlock(block=Rectangle(x_1=131.75772094726562, y_1=1628.12109375, x_2=1582.441162109375, y_2=1842.43994140625), text=None, id=11, type=Text, parent=None, next=None, score=0.6643580794334412), TextBlock(block=Rectangle(x_1=140.62022399902344, y_1=1866.892578125, x_2=1591.7056884765625, y_2=2039.139404296875), text=None, id=12, type=Text, parent=None, next=None, score=0.7589321136474609)]\n",
      "Block Title\n",
      "Block Title\n",
      "Block Text\n",
      "Block Title\n",
      "Block Text\n",
      "Block Text\n",
      "Block List\n",
      "Block Text\n",
      "Block Text\n",
      "Block Text\n",
      "Block Text\n",
      "Block Text\n",
      "Block Text\n",
      "------------------------------- Layout(_blocks=[TextBlock(block=Rectangle(x_1=134.69119262695312, y_1=452.328369140625, x_2=1576.486328125, y_2=728.4725341796875), text=None, id=None, type=Text, parent=None, next=None, score=0.9248151779174805), TextBlock(block=Rectangle(x_1=146.63912963867188, y_1=1240.68798828125, x_2=1592.302978515625, y_2=1567.298583984375), text=None, id=None, type=Text, parent=None, next=None, score=0.9212616682052612), TextBlock(block=Rectangle(x_1=178.94752502441406, y_1=1606.099853515625, x_2=1608.03662109375, y_2=1967.7281494140625), text=None, id=None, type=Text, parent=None, next=None, score=0.8773584961891174), TextBlock(block=Rectangle(x_1=169.9189453125, y_1=1047.1251220703125, x_2=1590.81591796875, y_2=1222.9136962890625), text=None, id=None, type=Text, parent=None, next=None, score=0.8574172854423523), TextBlock(block=Rectangle(x_1=130.02459716796875, y_1=240.46481323242188, x_2=1581.86279296875, y_2=418.7718200683594), text=None, id=None, type=Text, parent=None, next=None, score=0.8277148604393005), TextBlock(block=Rectangle(x_1=157.7933807373047, y_1=724.2198486328125, x_2=1582.223876953125, y_2=1019.0340576171875), text=None, id=None, type=Text, parent=None, next=None, score=0.7987874746322632), TextBlock(block=Rectangle(x_1=155.80514526367188, y_1=1000.8203735351562, x_2=336.5052490234375, y_2=1028.7724609375), text=None, id=None, type=Text, parent=None, next=None, score=0.6084938049316406), TextBlock(block=Rectangle(x_1=185.7900390625, y_1=2000.147705078125, x_2=1613.43701171875, y_2=2094.9677734375), text=None, id=None, type=Text, parent=None, next=None, score=0.5857600569725037), TextBlock(block=Rectangle(x_1=135.79754638671875, y_1=127.71124267578125, x_2=1544.986328125, y_2=214.41696166992188), text=None, id=None, type=Text, parent=None, next=None, score=0.5342668294906616)], page_data={})\n",
      "text_blocks [TextBlock(block=Rectangle(x_1=135.79754638671875, y_1=127.71124267578125, x_2=1544.986328125, y_2=214.41696166992188), text=None, id=0, type=Text, parent=None, next=None, score=0.5342668294906616), TextBlock(block=Rectangle(x_1=130.02459716796875, y_1=240.46481323242188, x_2=1581.86279296875, y_2=418.7718200683594), text=None, id=1, type=Text, parent=None, next=None, score=0.8277148604393005), TextBlock(block=Rectangle(x_1=134.69119262695312, y_1=452.328369140625, x_2=1576.486328125, y_2=728.4725341796875), text=None, id=2, type=Text, parent=None, next=None, score=0.9248151779174805), TextBlock(block=Rectangle(x_1=157.7933807373047, y_1=724.2198486328125, x_2=1582.223876953125, y_2=1019.0340576171875), text=None, id=3, type=Text, parent=None, next=None, score=0.7987874746322632), TextBlock(block=Rectangle(x_1=155.80514526367188, y_1=1000.8203735351562, x_2=336.5052490234375, y_2=1028.7724609375), text=None, id=4, type=Text, parent=None, next=None, score=0.6084938049316406), TextBlock(block=Rectangle(x_1=169.9189453125, y_1=1047.1251220703125, x_2=1590.81591796875, y_2=1222.9136962890625), text=None, id=5, type=Text, parent=None, next=None, score=0.8574172854423523), TextBlock(block=Rectangle(x_1=146.63912963867188, y_1=1240.68798828125, x_2=1592.302978515625, y_2=1567.298583984375), text=None, id=6, type=Text, parent=None, next=None, score=0.9212616682052612), TextBlock(block=Rectangle(x_1=178.94752502441406, y_1=1606.099853515625, x_2=1608.03662109375, y_2=1967.7281494140625), text=None, id=7, type=Text, parent=None, next=None, score=0.8773584961891174), TextBlock(block=Rectangle(x_1=185.7900390625, y_1=2000.147705078125, x_2=1613.43701171875, y_2=2094.9677734375), text=None, id=8, type=Text, parent=None, next=None, score=0.5857600569725037)]\n",
      "Block Text\n",
      "Block Text\n",
      "Block Text\n",
      "Block Text\n",
      "Block Text\n",
      "Block Text\n",
      "Block Text\n",
      "Block Text\n",
      "Block Text\n",
      "------------------------------- Layout(_blocks=[TextBlock(block=Rectangle(x_1=160.1140899658203, y_1=1080.01806640625, x_2=1596.8148193359375, y_2=1579.8211669921875), text=None, id=None, type=Text, parent=None, next=None, score=0.9693156480789185), TextBlock(block=Rectangle(x_1=163.1542510986328, y_1=608.71826171875, x_2=1571.5643310546875, y_2=895.1245727539062), text=None, id=None, type=Text, parent=None, next=None, score=0.8746064901351929), TextBlock(block=Rectangle(x_1=91.11767578125, y_1=280.6420593261719, x_2=1585.4361572265625, y_2=585.3781127929688), text=None, id=None, type=Text, parent=None, next=None, score=0.8603764176368713), TextBlock(block=Rectangle(x_1=173.4559783935547, y_1=1872.19580078125, x_2=1599.3704833984375, y_2=2078.921875), text=None, id=None, type=Text, parent=None, next=None, score=0.8243640065193176), TextBlock(block=Rectangle(x_1=129.80625915527344, y_1=129.65220642089844, x_2=1567.9903564453125, y_2=256.6041259765625), text=None, id=None, type=Text, parent=None, next=None, score=0.7496100664138794), TextBlock(block=Rectangle(x_1=167.73959350585938, y_1=923.3038940429688, x_2=1586.524169921875, y_2=1056.14111328125), text=None, id=None, type=Text, parent=None, next=None, score=0.7340192794799805), TextBlock(block=Rectangle(x_1=166.82708740234375, y_1=1602.0155029296875, x_2=1590.8878173828125, y_2=1853.1951904296875), text=None, id=None, type=Text, parent=None, next=None, score=0.7119090557098389)], page_data={})\n",
      "text_blocks [TextBlock(block=Rectangle(x_1=129.80625915527344, y_1=129.65220642089844, x_2=1567.9903564453125, y_2=256.6041259765625), text=None, id=0, type=Text, parent=None, next=None, score=0.7496100664138794), TextBlock(block=Rectangle(x_1=91.11767578125, y_1=280.6420593261719, x_2=1585.4361572265625, y_2=585.3781127929688), text=None, id=1, type=Text, parent=None, next=None, score=0.8603764176368713), TextBlock(block=Rectangle(x_1=163.1542510986328, y_1=608.71826171875, x_2=1571.5643310546875, y_2=895.1245727539062), text=None, id=2, type=Text, parent=None, next=None, score=0.8746064901351929), TextBlock(block=Rectangle(x_1=167.73959350585938, y_1=923.3038940429688, x_2=1586.524169921875, y_2=1056.14111328125), text=None, id=3, type=Text, parent=None, next=None, score=0.7340192794799805), TextBlock(block=Rectangle(x_1=160.1140899658203, y_1=1080.01806640625, x_2=1596.8148193359375, y_2=1579.8211669921875), text=None, id=4, type=Text, parent=None, next=None, score=0.9693156480789185), TextBlock(block=Rectangle(x_1=166.82708740234375, y_1=1602.0155029296875, x_2=1590.8878173828125, y_2=1853.1951904296875), text=None, id=5, type=Text, parent=None, next=None, score=0.7119090557098389), TextBlock(block=Rectangle(x_1=173.4559783935547, y_1=1872.19580078125, x_2=1599.3704833984375, y_2=2078.921875), text=None, id=6, type=Text, parent=None, next=None, score=0.8243640065193176)]\n",
      "Block Text\n",
      "Block Text\n",
      "Block Text\n",
      "Block Text\n",
      "Block Text\n",
      "Block Text\n",
      "Block Text\n",
      "------------------------------- Layout(_blocks=[TextBlock(block=Rectangle(x_1=106.40232849121094, y_1=1196.302734375, x_2=1567.594970703125, y_2=2133.689453125), text=None, id=None, type=Figure, parent=None, next=None, score=0.9021470546722412), TextBlock(block=Rectangle(x_1=148.9532470703125, y_1=188.73300170898438, x_2=1582.36962890625, y_2=405.4966125488281), text=None, id=None, type=Text, parent=None, next=None, score=0.9013590812683105), TextBlock(block=Rectangle(x_1=154.1140594482422, y_1=626.370849609375, x_2=1581.835205078125, y_2=794.349365234375), text=None, id=None, type=Text, parent=None, next=None, score=0.8770572543144226), TextBlock(block=Rectangle(x_1=145.6768341064453, y_1=426.60101318359375, x_2=1577.3323974609375, y_2=590.841796875), text=None, id=None, type=Text, parent=None, next=None, score=0.8742883801460266), TextBlock(block=Rectangle(x_1=162.90737915039062, y_1=824.5476684570312, x_2=1592.5294189453125, y_2=950.5324096679688), text=None, id=None, type=Text, parent=None, next=None, score=0.8477199673652649), TextBlock(block=Rectangle(x_1=176.5552215576172, y_1=1100.34423828125, x_2=1556.2152099609375, y_2=1201.9769287109375), text=None, id=None, type=Text, parent=None, next=None, score=0.7517471313476562), TextBlock(block=Rectangle(x_1=174.02711486816406, y_1=985.4822998046875, x_2=1568.0482177734375, y_2=1073.53515625), text=None, id=None, type=Text, parent=None, next=None, score=0.6070707440376282)], page_data={})\n",
      "text_blocks [TextBlock(block=Rectangle(x_1=148.9532470703125, y_1=188.73300170898438, x_2=1582.36962890625, y_2=405.4966125488281), text=None, id=0, type=Text, parent=None, next=None, score=0.9013590812683105), TextBlock(block=Rectangle(x_1=145.6768341064453, y_1=426.60101318359375, x_2=1577.3323974609375, y_2=590.841796875), text=None, id=1, type=Text, parent=None, next=None, score=0.8742883801460266), TextBlock(block=Rectangle(x_1=154.1140594482422, y_1=626.370849609375, x_2=1581.835205078125, y_2=794.349365234375), text=None, id=2, type=Text, parent=None, next=None, score=0.8770572543144226), TextBlock(block=Rectangle(x_1=162.90737915039062, y_1=824.5476684570312, x_2=1592.5294189453125, y_2=950.5324096679688), text=None, id=3, type=Text, parent=None, next=None, score=0.8477199673652649), TextBlock(block=Rectangle(x_1=174.02711486816406, y_1=985.4822998046875, x_2=1568.0482177734375, y_2=1073.53515625), text=None, id=4, type=Text, parent=None, next=None, score=0.6070707440376282), TextBlock(block=Rectangle(x_1=176.5552215576172, y_1=1100.34423828125, x_2=1556.2152099609375, y_2=1201.9769287109375), text=None, id=5, type=Text, parent=None, next=None, score=0.7517471313476562)]\n",
      "Block Text\n",
      "Block Text\n",
      "Block Text\n",
      "Block Text\n",
      "Block Text\n",
      "Block Text\n",
      "------------------------------- Layout(_blocks=[TextBlock(block=Rectangle(x_1=450.33489990234375, y_1=200.62852478027344, x_2=983.46826171875, y_2=326.4574890136719), text=None, id=None, type=Title, parent=None, next=None, score=0.9970023036003113), TextBlock(block=Rectangle(x_1=201.25941467285156, y_1=889.81298828125, x_2=710.1295166015625, y_2=1001.4720458984375), text=None, id=None, type=Title, parent=None, next=None, score=0.9908422231674194), TextBlock(block=Rectangle(x_1=88.45960998535156, y_1=692.1073608398438, x_2=1574.6475830078125, y_2=775.141357421875), text=None, id=None, type=Text, parent=None, next=None, score=0.9286928772926331), TextBlock(block=Rectangle(x_1=99.51708984375, y_1=465.6073913574219, x_2=1540.786376953125, y_2=545.9768676757812), text=None, id=None, type=Title, parent=None, next=None, score=0.8969539999961853), TextBlock(block=Rectangle(x_1=97.89883422851562, y_1=578.1175537109375, x_2=1563.132568359375, y_2=663.2513427734375), text=None, id=None, type=Text, parent=None, next=None, score=0.8928703665733337), TextBlock(block=Rectangle(x_1=100.75653839111328, y_1=1188.1380615234375, x_2=253.26023864746094, y_2=1227.99755859375), text=None, id=None, type=Text, parent=None, next=None, score=0.8515134453773499), TextBlock(block=Rectangle(x_1=105.3660659790039, y_1=1253.051025390625, x_2=428.6680908203125, y_2=1427.0928955078125), text=None, id=None, type=Title, parent=None, next=None, score=0.7852196097373962), TextBlock(block=Rectangle(x_1=111.49661254882812, y_1=1036.63232421875, x_2=1593.0758056640625, y_2=1138.7125244140625), text=None, id=None, type=Title, parent=None, next=None, score=0.7064927220344543), TextBlock(block=Rectangle(x_1=99.12454223632812, y_1=1257.8037109375, x_2=400.9249572753906, y_2=1424.684814453125), text=None, id=None, type=Text, parent=None, next=None, score=0.6623123288154602), TextBlock(block=Rectangle(x_1=99.13973236083984, y_1=1034.9110107421875, x_2=1599.0496826171875, y_2=1140.449951171875), text=None, id=None, type=Text, parent=None, next=None, score=0.6536368727684021), TextBlock(block=Rectangle(x_1=101.23605346679688, y_1=1265.107666015625, x_2=433.4955139160156, y_2=1299.976806640625), text=None, id=None, type=Text, parent=None, next=None, score=0.6447426080703735), TextBlock(block=Rectangle(x_1=106.69825744628906, y_1=812.0928344726562, x_2=449.78082275390625, y_2=849.5336303710938), text=None, id=None, type=Text, parent=None, next=None, score=0.5685153007507324), TextBlock(block=Rectangle(x_1=103.21275329589844, y_1=1122.6451416015625, x_2=663.0523681640625, y_2=1150.501708984375), text=None, id=None, type=Text, parent=None, next=None, score=0.5231720805168152), TextBlock(block=Rectangle(x_1=95.67558288574219, y_1=393.0791931152344, x_2=179.22080993652344, y_2=431.1014709472656), text=None, id=None, type=Title, parent=None, next=None, score=0.5066461563110352)], page_data={})\n",
      "text_blocks [TextBlock(block=Rectangle(x_1=450.33489990234375, y_1=200.62852478027344, x_2=983.46826171875, y_2=326.4574890136719), text=None, id=0, type=Title, parent=None, next=None, score=0.9970023036003113), TextBlock(block=Rectangle(x_1=95.67558288574219, y_1=393.0791931152344, x_2=179.22080993652344, y_2=431.1014709472656), text=None, id=1, type=Title, parent=None, next=None, score=0.5066461563110352), TextBlock(block=Rectangle(x_1=99.51708984375, y_1=465.6073913574219, x_2=1540.786376953125, y_2=545.9768676757812), text=None, id=2, type=Title, parent=None, next=None, score=0.8969539999961853), TextBlock(block=Rectangle(x_1=97.89883422851562, y_1=578.1175537109375, x_2=1563.132568359375, y_2=663.2513427734375), text=None, id=3, type=Text, parent=None, next=None, score=0.8928703665733337), TextBlock(block=Rectangle(x_1=88.45960998535156, y_1=692.1073608398438, x_2=1574.6475830078125, y_2=775.141357421875), text=None, id=4, type=Text, parent=None, next=None, score=0.9286928772926331), TextBlock(block=Rectangle(x_1=106.69825744628906, y_1=812.0928344726562, x_2=449.78082275390625, y_2=849.5336303710938), text=None, id=5, type=Text, parent=None, next=None, score=0.5685153007507324), TextBlock(block=Rectangle(x_1=201.25941467285156, y_1=889.81298828125, x_2=710.1295166015625, y_2=1001.4720458984375), text=None, id=6, type=Title, parent=None, next=None, score=0.9908422231674194), TextBlock(block=Rectangle(x_1=99.13973236083984, y_1=1034.9110107421875, x_2=1599.0496826171875, y_2=1140.449951171875), text=None, id=7, type=Text, parent=None, next=None, score=0.6536368727684021), TextBlock(block=Rectangle(x_1=111.49661254882812, y_1=1036.63232421875, x_2=1593.0758056640625, y_2=1138.7125244140625), text=None, id=8, type=Title, parent=None, next=None, score=0.7064927220344543), TextBlock(block=Rectangle(x_1=103.21275329589844, y_1=1122.6451416015625, x_2=663.0523681640625, y_2=1150.501708984375), text=None, id=9, type=Text, parent=None, next=None, score=0.5231720805168152), TextBlock(block=Rectangle(x_1=100.75653839111328, y_1=1188.1380615234375, x_2=253.26023864746094, y_2=1227.99755859375), text=None, id=10, type=Text, parent=None, next=None, score=0.8515134453773499), TextBlock(block=Rectangle(x_1=105.3660659790039, y_1=1253.051025390625, x_2=428.6680908203125, y_2=1427.0928955078125), text=None, id=11, type=Title, parent=None, next=None, score=0.7852196097373962), TextBlock(block=Rectangle(x_1=99.12454223632812, y_1=1257.8037109375, x_2=400.9249572753906, y_2=1424.684814453125), text=None, id=12, type=Text, parent=None, next=None, score=0.6623123288154602), TextBlock(block=Rectangle(x_1=101.23605346679688, y_1=1265.107666015625, x_2=433.4955139160156, y_2=1299.976806640625), text=None, id=13, type=Text, parent=None, next=None, score=0.6447426080703735)]\n",
      "Block Title\n",
      "Block Title\n",
      "Block Title\n",
      "Block Text\n",
      "Block Text\n",
      "Block Text\n",
      "Block Title\n",
      "Block Text\n",
      "Block Title\n",
      "Block Text\n",
      "Block Text\n",
      "Block Title\n",
      "Block Text\n",
      "Block Text\n"
     ]
    }
   ],
   "source": [
    "# Mapping the bounding box co-ordinates from layout parser and extracting the text from azure ocr xml.\n",
    "xml_path = r\"/mnt/c/Users/s.shrikant.bhurke/OneDrive - Accenture/CNW/Sample 100 files - Lease & amendment/Lease Agreement_layout.xml\"\n",
    "all_word_list = return_word(xml_path)\n",
    "paragraph_list = []\n",
    "text_type = []\n",
    "#count = 0\n",
    "for i in range(len(img)):\n",
    "    page_image = img[i]\n",
    "    img1 = np.array(page_image)\n",
    "    layout_result = model.detect(page_image)\n",
    "\n",
    "    # lp.draw_box(img, layout_result,  box_width=5, box_alpha=0.2, show_element_type=True)\n",
    "    text_blocks = lp.Layout([b for b in layout_result])\n",
    "\n",
    "    #lp.draw_box(page_image, text_blocks,  box_width=5, box_alpha=0.2, show_element_type=True, show_element_id=True)\n",
    "    text_blocks = lp.Layout([b for b in layout_result if b.type in ['Text', 'Title', \"List\", 'Table']])\n",
    "    figure_blocks = lp.Layout([b for b in layout_result if b.type=='Figure'])\n",
    "\n",
    "    text_blocks = lp.Layout([b for b in text_blocks if not any(b.is_in(b_fig) for b_fig in figure_blocks)])\n",
    "    #to sort the bounding box from page start to end\n",
    "\n",
    "    w, h  = page_image.size\n",
    "\n",
    "    left_interval = lp.Interval(0, w/2*1.05, axis='x').put_on_canvas(page_image)\n",
    "\n",
    "    left_blocks = text_blocks.filter_by(left_interval, center=True)\n",
    "    left_blocks.sort(key = lambda b:b.coordinates[1], inplace=True)\n",
    "\n",
    "    right_blocks = [b for b in text_blocks if b not in left_blocks]\n",
    "    right_blocks.sort(key = lambda b:b.coordinates[1])\n",
    "\n",
    "    # And finally combine the two list and add the index\n",
    "    # according to the order\n",
    "    text_blocks = lp.Layout([b.set(id = idx) for idx, b in enumerate(left_blocks + right_blocks)])\n",
    "\n",
    "    text_blocks = sorted(text_blocks._blocks, key=lambda block: block.block.y_1)\n",
    "\n",
    "    \n",
    "    print(\"text_blocks\",text_blocks)\n",
    "    #print(\"-------text_blocks--------\",text_blocks)\n",
    "    for block in text_blocks:\n",
    "        #segment_image = (block.pad(left=5, right=5, top=5, bottom=5).crop_image(img1))\n",
    "            # add padding in each image segment can help\n",
    "            # improve robustness\n",
    "        x_1 = block.block.x_1  \n",
    "        y_1 = block.block.y_1\n",
    "        x_2 = block.block.x_2\n",
    "        y_2 = block.block.y_2\n",
    "        paragraph = \"\"\n",
    "        print(\"---Block----\",x_1, y_1, x_2, y_2)\n",
    "        values = all_word_list[i]\n",
    "        for textzone in values:\n",
    "            if textzone[1] >= x_1 and textzone[3] <= x_2 and textzone[2] >= y_1 and textzone[4] <= y_2:\n",
    "                paragraph += textzone[0] + \" \"\n",
    "                print(\"------------paragraph----------\",paragraph)\n",
    "        paragraph_list.append(paragraph)\n",
    "        text_type.append(block.type)\n",
    "        #print(\"Block\",block.type)\n",
    "    \n",
    "        #print(\"------paragraph------\",paragraph)\n",
    "        #\n",
    "        # block.set(text=paragraph, inplace=True)\n",
    "    #print(\"paragraph_list\",paragraph_list)\n",
    "\n",
    "    #for txt in text_blocks.get_texts():\n",
    "        #print(txt, end='\\n---\\n')\n",
    "#print(\"paragraph_list\",paragraph_list)\n",
    "\n",
    "    "
   ]
  },
  {
   "cell_type": "code",
   "execution_count": 28,
   "metadata": {},
   "outputs": [],
   "source": [
    "img = img[3]\n",
    "img1 = np.array(img)"
   ]
  },
  {
   "cell_type": "code",
   "execution_count": null,
   "metadata": {},
   "outputs": [],
   "source": [
    "layout_result = model.detect(img)\n",
    "\n",
    "# lp.draw_box(img, layout_result,  box_width=5, box_alpha=0.2, show_element_type=True)\n",
    "text_blocks = lp.Layout([b for b in layout_result])\n",
    "\n",
    "lp.draw_box(img\n",
    "            , text_blocks,  box_width=5, box_alpha=0.2, show_element_type=True, show_element_id=True)"
   ]
  },
  {
   "cell_type": "code",
   "execution_count": 37,
   "metadata": {},
   "outputs": [
    {
     "data": {
      "text/plain": [
       "Layout(_blocks=[TextBlock(block=Rectangle(x_1=106.40232849121094, y_1=1196.302734375, x_2=1567.594970703125, y_2=2133.689453125), text=None, id=None, type=Figure, parent=None, next=None, score=0.9021470546722412), TextBlock(block=Rectangle(x_1=148.9532470703125, y_1=188.73300170898438, x_2=1582.36962890625, y_2=405.4966125488281), text=None, id=None, type=Text, parent=None, next=None, score=0.9013590812683105), TextBlock(block=Rectangle(x_1=154.1140594482422, y_1=626.370849609375, x_2=1581.835205078125, y_2=794.349365234375), text=None, id=None, type=Text, parent=None, next=None, score=0.8770572543144226), TextBlock(block=Rectangle(x_1=145.6768341064453, y_1=426.60101318359375, x_2=1577.3323974609375, y_2=590.841796875), text=None, id=None, type=Text, parent=None, next=None, score=0.8742883801460266), TextBlock(block=Rectangle(x_1=162.90737915039062, y_1=824.5476684570312, x_2=1592.5294189453125, y_2=950.5324096679688), text=None, id=None, type=Text, parent=None, next=None, score=0.8477199673652649), TextBlock(block=Rectangle(x_1=176.5552215576172, y_1=1100.34423828125, x_2=1556.2152099609375, y_2=1201.9769287109375), text=None, id=None, type=Text, parent=None, next=None, score=0.7517471313476562), TextBlock(block=Rectangle(x_1=174.02711486816406, y_1=985.4822998046875, x_2=1568.0482177734375, y_2=1073.53515625), text=None, id=None, type=Text, parent=None, next=None, score=0.6070707440376282)], page_data={})"
      ]
     },
     "execution_count": 37,
     "metadata": {},
     "output_type": "execute_result"
    }
   ],
   "source": [
    "layout_result"
   ]
  },
  {
   "cell_type": "code",
   "execution_count": 30,
   "metadata": {},
   "outputs": [],
   "source": [
    "text_blocks = lp.Layout([b for b in layout_result if b.type in ['Text', \"List\"]])\n",
    "figure_blocks = lp.Layout([b for b in layout_result if b.type=='Figure'])"
   ]
  },
  {
   "cell_type": "code",
   "execution_count": 31,
   "metadata": {},
   "outputs": [],
   "source": [
    "text_blocks = lp.Layout([b for b in text_blocks \\\n",
    "                   if not any(b.is_in(b_fig) for b_fig in figure_blocks)])"
   ]
  },
  {
   "cell_type": "code",
   "execution_count": 32,
   "metadata": {},
   "outputs": [],
   "source": [
    "w, h  = img.size\n",
    "\n",
    "left_interval = lp.Interval(0, w/2*1.05, axis='x').put_on_canvas(img)\n",
    "\n",
    "left_blocks = text_blocks.filter_by(left_interval, center=True)\n",
    "left_blocks.sort(key = lambda b:b.coordinates[1], inplace=True)\n",
    "\n",
    "right_blocks = [b for b in text_blocks if b not in left_blocks]\n",
    "right_blocks.sort(key = lambda b:b.coordinates[1])\n",
    "\n",
    "# And finally combine the two list and add the index\n",
    "# according to the order\n",
    "text_blocks = lp.Layout([b.set(id = idx) for idx, b in enumerate(left_blocks + right_blocks)])"
   ]
  },
  {
   "cell_type": "code",
   "execution_count": 34,
   "metadata": {},
   "outputs": [
    {
     "data": {
      "text/plain": [
       "Layout(_blocks=[TextBlock(block=Rectangle(x_1=148.9532470703125, y_1=188.73300170898438, x_2=1582.36962890625, y_2=405.4966125488281), text=None, id=0, type=Text, parent=None, next=None, score=0.9013590812683105), TextBlock(block=Rectangle(x_1=145.6768341064453, y_1=426.60101318359375, x_2=1577.3323974609375, y_2=590.841796875), text=None, id=1, type=Text, parent=None, next=None, score=0.8742883801460266), TextBlock(block=Rectangle(x_1=154.1140594482422, y_1=626.370849609375, x_2=1581.835205078125, y_2=794.349365234375), text=None, id=2, type=Text, parent=None, next=None, score=0.8770572543144226), TextBlock(block=Rectangle(x_1=162.90737915039062, y_1=824.5476684570312, x_2=1592.5294189453125, y_2=950.5324096679688), text=None, id=3, type=Text, parent=None, next=None, score=0.8477199673652649), TextBlock(block=Rectangle(x_1=174.02711486816406, y_1=985.4822998046875, x_2=1568.0482177734375, y_2=1073.53515625), text=None, id=4, type=Text, parent=None, next=None, score=0.6070707440376282), TextBlock(block=Rectangle(x_1=176.5552215576172, y_1=1100.34423828125, x_2=1556.2152099609375, y_2=1201.9769287109375), text=None, id=5, type=Text, parent=None, next=None, score=0.7517471313476562)], page_data={})"
      ]
     },
     "execution_count": 34,
     "metadata": {},
     "output_type": "execute_result"
    }
   ],
   "source": [
    "text_blocks"
   ]
  },
  {
   "cell_type": "code",
   "execution_count": null,
   "metadata": {},
   "outputs": [],
   "source": [
    "xml_path = r\"/mnt/c/Users/s.shrikant.bhurke/OneDrive - Accenture/CNW/Sample 100 files - Lease & amendment/Lease Agreement_layout.xml\"\n",
    "all_word_list = return_word(xml_path)\n",
    "paragraph_list = []\n",
    "print(\"-------text_blocks--------\",text_blocks)\n",
    "for block in text_blocks:\n",
    "    segment_image = (block.pad(left=5, right=5, top=5, bottom=5).crop_image(img1))\n",
    "        # add padding in each image segment can help\n",
    "        # improve robustness\n",
    "    x_1 = block.block.x_1  \n",
    "    y_1 = block.block.y_1\n",
    "    x_2 = block.block.x_2\n",
    "    y_2 = block.block.y_2\n",
    "    paragraph = \"\"\n",
    "    for page in all_word_list:\n",
    "        \n",
    "        if page == 3:\n",
    "            values = all_word_list[3]\n",
    "            for textzone in values:\n",
    "                #if textzone[1] <= x_2 and textzone[3] >= x_1 and textzone[2] <= y_2 and textzone[4] >= y_1:\n",
    "                #x_midpoint = ((textzone[3]-textzone[1])/2)+textzone[1]\n",
    "                #y_midpoint = ((textzone[4]-textzone[2])/2)+textzone[2]\n",
    "                #if (x_midpoint >= x_1 and y_midpoint >= y_1 and x_midpoint <= x_2 and y_midpoint <= y_2):\n",
    "                #if (x_midpoint >= x_1) and (x_midpoint <= x_1 + box_width) and (y_midpoint >= box_y) and (y_midpoint <= box_y + box_height):\n",
    "                if textzone[1] >= x_1 and textzone[3] <= x_2 and textzone[2] >= y_1 and textzone[4] <= y_2:\n",
    "                    paragraph += textzone[0] + \" \"\n",
    "            break\n",
    "    paragraph_list.append(paragraph)\n",
    "    print(\"------paragraph------\",paragraph)\n",
    "    #\n",
    "    # block.set(text=paragraph, inplace=True)\n",
    "#print(\"paragraph_list\",paragraph_list)\n",
    "\n",
    "#for txt in text_blocks.get_texts():\n",
    "    #print(txt, end='\\n---\\n')"
   ]
  }
 ],
 "metadata": {
  "kernelspec": {
   "display_name": "section_seg",
   "language": "python",
   "name": "python3"
  },
  "language_info": {
   "codemirror_mode": {
    "name": "ipython",
    "version": 3
   },
   "file_extension": ".py",
   "mimetype": "text/x-python",
   "name": "python",
   "nbconvert_exporter": "python",
   "pygments_lexer": "ipython3",
   "version": "3.10.11"
  },
  "orig_nbformat": 4
 },
 "nbformat": 4,
 "nbformat_minor": 2
}
